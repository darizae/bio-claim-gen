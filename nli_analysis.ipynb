{
 "cells": [
  {
   "cell_type": "code",
   "id": "initial_id",
   "metadata": {
    "collapsed": true,
    "ExecuteTime": {
     "end_time": "2025-03-19T01:03:43.448536Z",
     "start_time": "2025-03-19T01:03:43.431830Z"
    }
   },
   "source": [
    "# nli_analysis.ipynb\n",
    "\n",
    "import json\n",
    "import pandas as pd\n",
    "from collections import Counter\n",
    "import matplotlib.pyplot as plt\n",
    "import seaborn as sns\n",
    "\n",
    "path = \"nli_verification_results_subset.json\"\n",
    "# path = \"nli_verification_results.json\"\n",
    "\n",
    "# 1) Load the results JSON\n",
    "with open(path, \"r\", encoding=\"utf-8\") as f:\n",
    "    data = json.load(f)\n",
    "\n",
    "# data should have:\n",
    "# {\n",
    "#   \"results\": [...],   # each entry: {doc_id, claim_id, claim_text, pred_label, gold_label, ...}\n",
    "#   \"metrics\": {...}    # overall metrics (accuracy, macro_precision, etc.)\n",
    "# }\n",
    "results = data[\"results\"]\n",
    "metrics = data[\"metrics\"]\n",
    "\n",
    "# 2) Convert results to a DataFrame\n",
    "df = pd.DataFrame(results)\n",
    "df.head()"
   ],
   "outputs": [
    {
     "data": {
      "text/plain": [
       "     doc_id claim_id                                         claim_text  \\\n",
       "0  13734012        2  1 in 5 million in UK have abnormal PrP positiv...   \n",
       "1  13734012        5         1/2000 in UK have abnormal PrP positivity.   \n",
       "2  13734012       48  A total of 1,000 people in the UK are asymptom...   \n",
       "3  22080671       15  50% of patients exposed to radiation have acti...   \n",
       "4  22080671      139  At least 85% of patients exposed to radiation ...   \n",
       "\n",
       "  pred_label     gold_label  \\\n",
       "0    neutral  contradiction   \n",
       "1    neutral     entailment   \n",
       "2    neutral  contradiction   \n",
       "3    neutral        neutral   \n",
       "4    neutral        neutral   \n",
       "\n",
       "                                    matched_sentence  p_entail   p_contr  \\\n",
       "0  RESULTS Of the 32,441 appendix samples 16 were...  0.124916  0.098512   \n",
       "1  Genetic testing of the positive specimens for ...  0.004122  0.029463   \n",
       "2  SETTING Archived appendix samples from the pat...  0.002306  0.029290   \n",
       "3  These unidentified SMC-derived cells exhibit p...  0.000887  0.006853   \n",
       "4  On the basis of in vivo KLF4 chromatin immunop...  0.064209  0.094192   \n",
       "\n",
       "     p_neut  NLIScore  \n",
       "0  0.776573  0.026404  \n",
       "1  0.966415 -0.025342  \n",
       "2  0.968404 -0.026984  \n",
       "3  0.992260 -0.005966  \n",
       "4  0.841600 -0.029983  "
      ],
      "text/html": [
       "<div>\n",
       "<style scoped>\n",
       "    .dataframe tbody tr th:only-of-type {\n",
       "        vertical-align: middle;\n",
       "    }\n",
       "\n",
       "    .dataframe tbody tr th {\n",
       "        vertical-align: top;\n",
       "    }\n",
       "\n",
       "    .dataframe thead th {\n",
       "        text-align: right;\n",
       "    }\n",
       "</style>\n",
       "<table border=\"1\" class=\"dataframe\">\n",
       "  <thead>\n",
       "    <tr style=\"text-align: right;\">\n",
       "      <th></th>\n",
       "      <th>doc_id</th>\n",
       "      <th>claim_id</th>\n",
       "      <th>claim_text</th>\n",
       "      <th>pred_label</th>\n",
       "      <th>gold_label</th>\n",
       "      <th>matched_sentence</th>\n",
       "      <th>p_entail</th>\n",
       "      <th>p_contr</th>\n",
       "      <th>p_neut</th>\n",
       "      <th>NLIScore</th>\n",
       "    </tr>\n",
       "  </thead>\n",
       "  <tbody>\n",
       "    <tr>\n",
       "      <th>0</th>\n",
       "      <td>13734012</td>\n",
       "      <td>2</td>\n",
       "      <td>1 in 5 million in UK have abnormal PrP positiv...</td>\n",
       "      <td>neutral</td>\n",
       "      <td>contradiction</td>\n",
       "      <td>RESULTS Of the 32,441 appendix samples 16 were...</td>\n",
       "      <td>0.124916</td>\n",
       "      <td>0.098512</td>\n",
       "      <td>0.776573</td>\n",
       "      <td>0.026404</td>\n",
       "    </tr>\n",
       "    <tr>\n",
       "      <th>1</th>\n",
       "      <td>13734012</td>\n",
       "      <td>5</td>\n",
       "      <td>1/2000 in UK have abnormal PrP positivity.</td>\n",
       "      <td>neutral</td>\n",
       "      <td>entailment</td>\n",
       "      <td>Genetic testing of the positive specimens for ...</td>\n",
       "      <td>0.004122</td>\n",
       "      <td>0.029463</td>\n",
       "      <td>0.966415</td>\n",
       "      <td>-0.025342</td>\n",
       "    </tr>\n",
       "    <tr>\n",
       "      <th>2</th>\n",
       "      <td>13734012</td>\n",
       "      <td>48</td>\n",
       "      <td>A total of 1,000 people in the UK are asymptom...</td>\n",
       "      <td>neutral</td>\n",
       "      <td>contradiction</td>\n",
       "      <td>SETTING Archived appendix samples from the pat...</td>\n",
       "      <td>0.002306</td>\n",
       "      <td>0.029290</td>\n",
       "      <td>0.968404</td>\n",
       "      <td>-0.026984</td>\n",
       "    </tr>\n",
       "    <tr>\n",
       "      <th>3</th>\n",
       "      <td>22080671</td>\n",
       "      <td>15</td>\n",
       "      <td>50% of patients exposed to radiation have acti...</td>\n",
       "      <td>neutral</td>\n",
       "      <td>neutral</td>\n",
       "      <td>These unidentified SMC-derived cells exhibit p...</td>\n",
       "      <td>0.000887</td>\n",
       "      <td>0.006853</td>\n",
       "      <td>0.992260</td>\n",
       "      <td>-0.005966</td>\n",
       "    </tr>\n",
       "    <tr>\n",
       "      <th>4</th>\n",
       "      <td>22080671</td>\n",
       "      <td>139</td>\n",
       "      <td>At least 85% of patients exposed to radiation ...</td>\n",
       "      <td>neutral</td>\n",
       "      <td>neutral</td>\n",
       "      <td>On the basis of in vivo KLF4 chromatin immunop...</td>\n",
       "      <td>0.064209</td>\n",
       "      <td>0.094192</td>\n",
       "      <td>0.841600</td>\n",
       "      <td>-0.029983</td>\n",
       "    </tr>\n",
       "  </tbody>\n",
       "</table>\n",
       "</div>"
      ]
     },
     "execution_count": 19,
     "metadata": {},
     "output_type": "execute_result"
    }
   ],
   "execution_count": 19
  },
  {
   "metadata": {
    "ExecuteTime": {
     "end_time": "2025-03-19T01:03:43.451711Z",
     "start_time": "2025-03-19T01:03:43.449275Z"
    }
   },
   "cell_type": "code",
   "source": [
    "print(\"=== Overall Metrics ===\")\n",
    "for metric_name, metric_value in metrics.items():\n",
    "    print(f\"{metric_name}: {metric_value:.3f}\")\n"
   ],
   "id": "e38639fd7b00195b",
   "outputs": [
    {
     "name": "stdout",
     "output_type": "stream",
     "text": [
      "=== Overall Metrics ===\n",
      "accuracy: 0.528\n",
      "macro_precision: 0.489\n",
      "macro_recall: 0.494\n",
      "macro_f1: 0.481\n"
     ]
    }
   ],
   "execution_count": 20
  },
  {
   "metadata": {
    "ExecuteTime": {
     "end_time": "2025-03-19T01:03:43.455837Z",
     "start_time": "2025-03-19T01:03:43.453535Z"
    }
   },
   "cell_type": "code",
   "source": [
    "gold_counts = Counter(df[\"gold_label\"])\n",
    "print(\"Gold label distribution:\", gold_counts)"
   ],
   "id": "47ce73c68dc68257",
   "outputs": [
    {
     "name": "stdout",
     "output_type": "stream",
     "text": [
      "Gold label distribution: Counter({'entailment': 129, 'neutral': 117, 'contradiction': 89})\n"
     ]
    }
   ],
   "execution_count": 21
  },
  {
   "metadata": {
    "ExecuteTime": {
     "end_time": "2025-03-19T01:03:43.459012Z",
     "start_time": "2025-03-19T01:03:43.456778Z"
    }
   },
   "cell_type": "code",
   "source": [
    "pred_counts = Counter(df[\"pred_label\"])\n",
    "print(\"Predicted label distribution:\", pred_counts)\n"
   ],
   "id": "6df6649588d2a213",
   "outputs": [
    {
     "name": "stdout",
     "output_type": "stream",
     "text": [
      "Predicted label distribution: Counter({'entailment': 155, 'neutral': 132, 'contradiction': 48})\n"
     ]
    }
   ],
   "execution_count": 22
  },
  {
   "metadata": {
    "ExecuteTime": {
     "end_time": "2025-03-19T01:03:43.571310Z",
     "start_time": "2025-03-19T01:03:43.459775Z"
    }
   },
   "cell_type": "code",
   "source": [
    "labels = [\"contradiction\", \"neutral\", \"entailment\"]\n",
    "\n",
    "fig, axes = plt.subplots(1, 2, figsize=(10, 4), sharey=True)\n",
    "\n",
    "axes[0].bar(labels, [gold_counts[l] for l in labels], color=\"skyblue\")\n",
    "axes[0].set_title(\"Gold Label Distribution\")\n",
    "axes[0].set_ylabel(\"Count\")\n",
    "\n",
    "axes[1].bar(labels, [pred_counts[l] for l in labels], color=\"lightgreen\")\n",
    "axes[1].set_title(\"Predicted Label Distribution\")\n",
    "\n",
    "plt.tight_layout()\n",
    "plt.show()\n"
   ],
   "id": "da9ae51bb0fa63d7",
   "outputs": [
    {
     "data": {
      "text/plain": [
       "<Figure size 1000x400 with 2 Axes>"
      ],
      "image/png": "[encoded data removed]"
     },
     "metadata": {},
     "output_type": "display_data"
    }
   ],
   "execution_count": 23
  },
  {
   "metadata": {
    "ExecuteTime": {
     "end_time": "2025-03-19T01:03:43.587439Z",
     "start_time": "2025-03-19T01:03:43.573150Z"
    }
   },
   "cell_type": "code",
   "source": [
    "label_map = {\"contradiction\": 0, \"neutral\": 1, \"entailment\": 2}\n",
    "df[\"gold_id\"] = df[\"gold_label\"].map(label_map)\n",
    "df[\"pred_id\"] = df[\"pred_label\"].map(label_map)\n",
    "\n",
    "confusion = pd.crosstab(df[\"gold_id\"], df[\"pred_id\"], rownames=[\"Gold\"], colnames=[\"Pred\"])\n",
    "confusion\n"
   ],
   "id": "a2dfc5aed43cd4c8",
   "outputs": [
    {
     "data": {
      "text/plain": [
       "Pred   0   1   2\n",
       "Gold            \n",
       "0     18  48  23\n",
       "1     24  60  33\n",
       "2      6  24  99"
      ],
      "text/html": [
       "<div>\n",
       "<style scoped>\n",
       "    .dataframe tbody tr th:only-of-type {\n",
       "        vertical-align: middle;\n",
       "    }\n",
       "\n",
       "    .dataframe tbody tr th {\n",
       "        vertical-align: top;\n",
       "    }\n",
       "\n",
       "    .dataframe thead th {\n",
       "        text-align: right;\n",
       "    }\n",
       "</style>\n",
       "<table border=\"1\" class=\"dataframe\">\n",
       "  <thead>\n",
       "    <tr style=\"text-align: right;\">\n",
       "      <th>Pred</th>\n",
       "      <th>0</th>\n",
       "      <th>1</th>\n",
       "      <th>2</th>\n",
       "    </tr>\n",
       "    <tr>\n",
       "      <th>Gold</th>\n",
       "      <th></th>\n",
       "      <th></th>\n",
       "      <th></th>\n",
       "    </tr>\n",
       "  </thead>\n",
       "  <tbody>\n",
       "    <tr>\n",
       "      <th>0</th>\n",
       "      <td>18</td>\n",
       "      <td>48</td>\n",
       "      <td>23</td>\n",
       "    </tr>\n",
       "    <tr>\n",
       "      <th>1</th>\n",
       "      <td>24</td>\n",
       "      <td>60</td>\n",
       "      <td>33</td>\n",
       "    </tr>\n",
       "    <tr>\n",
       "      <th>2</th>\n",
       "      <td>6</td>\n",
       "      <td>24</td>\n",
       "      <td>99</td>\n",
       "    </tr>\n",
       "  </tbody>\n",
       "</table>\n",
       "</div>"
      ]
     },
     "execution_count": 24,
     "metadata": {},
     "output_type": "execute_result"
    }
   ],
   "execution_count": 24
  },
  {
   "metadata": {
    "ExecuteTime": {
     "end_time": "2025-03-19T01:03:43.682737Z",
     "start_time": "2025-03-19T01:03:43.589121Z"
    }
   },
   "cell_type": "code",
   "source": [
    "plt.figure(figsize=(6, 4))\n",
    "sns.heatmap(confusion, annot=True, cmap=\"Blues\", fmt=\"d\",\n",
    "            xticklabels=label_map.keys(),\n",
    "            yticklabels=label_map.keys())\n",
    "plt.title(\"Confusion Matrix (Gold vs. Predicted)\")\n",
    "plt.show()"
   ],
   "id": "b5047e79cb648e25",
   "outputs": [
    {
     "data": {
      "text/plain": [
       "<Figure size 600x400 with 2 Axes>"
      ],
      "image/png": "[encoded data removed]"
     },
     "metadata": {},
     "output_type": "display_data"
    }
   ],
   "execution_count": 25
  },
  {
   "metadata": {
    "ExecuteTime": {
     "end_time": "2025-03-19T01:03:44.422928Z",
     "start_time": "2025-03-19T01:03:43.686423Z"
    }
   },
   "cell_type": "code",
   "source": "df[[\"gold_label\", \"max_entailment_score\", \"max_contradiction_score\", \"max_neutral_score\"]].describe()",
   "id": "72428b6f167aba78",
   "outputs": [
    {
     "ename": "KeyError",
     "evalue": "\"['max_entailment_score', 'max_contradiction_score', 'max_neutral_score'] not in index\"",
     "output_type": "error",
     "traceback": [
      "\u001B[0;31m---------------------------------------------------------------------------\u001B[0m",
      "\u001B[0;31mKeyError\u001B[0m                                  Traceback (most recent call last)",
      "Cell \u001B[0;32mIn[26], line 1\u001B[0m\n\u001B[0;32m----> 1\u001B[0m \u001B[43mdf\u001B[49m\u001B[43m[\u001B[49m\u001B[43m[\u001B[49m\u001B[38;5;124;43m\"\u001B[39;49m\u001B[38;5;124;43mgold_label\u001B[39;49m\u001B[38;5;124;43m\"\u001B[39;49m\u001B[43m,\u001B[49m\u001B[43m \u001B[49m\u001B[38;5;124;43m\"\u001B[39;49m\u001B[38;5;124;43mmax_entailment_score\u001B[39;49m\u001B[38;5;124;43m\"\u001B[39;49m\u001B[43m,\u001B[49m\u001B[43m \u001B[49m\u001B[38;5;124;43m\"\u001B[39;49m\u001B[38;5;124;43mmax_contradiction_score\u001B[39;49m\u001B[38;5;124;43m\"\u001B[39;49m\u001B[43m,\u001B[49m\u001B[43m \u001B[49m\u001B[38;5;124;43m\"\u001B[39;49m\u001B[38;5;124;43mmax_neutral_score\u001B[39;49m\u001B[38;5;124;43m\"\u001B[39;49m\u001B[43m]\u001B[49m\u001B[43m]\u001B[49m\u001B[38;5;241m.\u001B[39mdescribe()\n",
      "File \u001B[0;32m/opt/homebrew/Caskroom/miniforge/base/envs/bio-claim-gen/lib/python3.10/site-packages/pandas/core/frame.py:4108\u001B[0m, in \u001B[0;36mDataFrame.__getitem__\u001B[0;34m(self, key)\u001B[0m\n\u001B[1;32m   4106\u001B[0m     \u001B[38;5;28;01mif\u001B[39;00m is_iterator(key):\n\u001B[1;32m   4107\u001B[0m         key \u001B[38;5;241m=\u001B[39m \u001B[38;5;28mlist\u001B[39m(key)\n\u001B[0;32m-> 4108\u001B[0m     indexer \u001B[38;5;241m=\u001B[39m \u001B[38;5;28;43mself\u001B[39;49m\u001B[38;5;241;43m.\u001B[39;49m\u001B[43mcolumns\u001B[49m\u001B[38;5;241;43m.\u001B[39;49m\u001B[43m_get_indexer_strict\u001B[49m\u001B[43m(\u001B[49m\u001B[43mkey\u001B[49m\u001B[43m,\u001B[49m\u001B[43m \u001B[49m\u001B[38;5;124;43m\"\u001B[39;49m\u001B[38;5;124;43mcolumns\u001B[39;49m\u001B[38;5;124;43m\"\u001B[39;49m\u001B[43m)\u001B[49m[\u001B[38;5;241m1\u001B[39m]\n\u001B[1;32m   4110\u001B[0m \u001B[38;5;66;03m# take() does not accept boolean indexers\u001B[39;00m\n\u001B[1;32m   4111\u001B[0m \u001B[38;5;28;01mif\u001B[39;00m \u001B[38;5;28mgetattr\u001B[39m(indexer, \u001B[38;5;124m\"\u001B[39m\u001B[38;5;124mdtype\u001B[39m\u001B[38;5;124m\"\u001B[39m, \u001B[38;5;28;01mNone\u001B[39;00m) \u001B[38;5;241m==\u001B[39m \u001B[38;5;28mbool\u001B[39m:\n",
      "File \u001B[0;32m/opt/homebrew/Caskroom/miniforge/base/envs/bio-claim-gen/lib/python3.10/site-packages/pandas/core/indexes/base.py:6200\u001B[0m, in \u001B[0;36mIndex._get_indexer_strict\u001B[0;34m(self, key, axis_name)\u001B[0m\n\u001B[1;32m   6197\u001B[0m \u001B[38;5;28;01melse\u001B[39;00m:\n\u001B[1;32m   6198\u001B[0m     keyarr, indexer, new_indexer \u001B[38;5;241m=\u001B[39m \u001B[38;5;28mself\u001B[39m\u001B[38;5;241m.\u001B[39m_reindex_non_unique(keyarr)\n\u001B[0;32m-> 6200\u001B[0m \u001B[38;5;28;43mself\u001B[39;49m\u001B[38;5;241;43m.\u001B[39;49m\u001B[43m_raise_if_missing\u001B[49m\u001B[43m(\u001B[49m\u001B[43mkeyarr\u001B[49m\u001B[43m,\u001B[49m\u001B[43m \u001B[49m\u001B[43mindexer\u001B[49m\u001B[43m,\u001B[49m\u001B[43m \u001B[49m\u001B[43maxis_name\u001B[49m\u001B[43m)\u001B[49m\n\u001B[1;32m   6202\u001B[0m keyarr \u001B[38;5;241m=\u001B[39m \u001B[38;5;28mself\u001B[39m\u001B[38;5;241m.\u001B[39mtake(indexer)\n\u001B[1;32m   6203\u001B[0m \u001B[38;5;28;01mif\u001B[39;00m \u001B[38;5;28misinstance\u001B[39m(key, Index):\n\u001B[1;32m   6204\u001B[0m     \u001B[38;5;66;03m# GH 42790 - Preserve name from an Index\u001B[39;00m\n",
      "File \u001B[0;32m/opt/homebrew/Caskroom/miniforge/base/envs/bio-claim-gen/lib/python3.10/site-packages/pandas/core/indexes/base.py:6252\u001B[0m, in \u001B[0;36mIndex._raise_if_missing\u001B[0;34m(self, key, indexer, axis_name)\u001B[0m\n\u001B[1;32m   6249\u001B[0m     \u001B[38;5;28;01mraise\u001B[39;00m \u001B[38;5;167;01mKeyError\u001B[39;00m(\u001B[38;5;124mf\u001B[39m\u001B[38;5;124m\"\u001B[39m\u001B[38;5;124mNone of [\u001B[39m\u001B[38;5;132;01m{\u001B[39;00mkey\u001B[38;5;132;01m}\u001B[39;00m\u001B[38;5;124m] are in the [\u001B[39m\u001B[38;5;132;01m{\u001B[39;00maxis_name\u001B[38;5;132;01m}\u001B[39;00m\u001B[38;5;124m]\u001B[39m\u001B[38;5;124m\"\u001B[39m)\n\u001B[1;32m   6251\u001B[0m not_found \u001B[38;5;241m=\u001B[39m \u001B[38;5;28mlist\u001B[39m(ensure_index(key)[missing_mask\u001B[38;5;241m.\u001B[39mnonzero()[\u001B[38;5;241m0\u001B[39m]]\u001B[38;5;241m.\u001B[39munique())\n\u001B[0;32m-> 6252\u001B[0m \u001B[38;5;28;01mraise\u001B[39;00m \u001B[38;5;167;01mKeyError\u001B[39;00m(\u001B[38;5;124mf\u001B[39m\u001B[38;5;124m\"\u001B[39m\u001B[38;5;132;01m{\u001B[39;00mnot_found\u001B[38;5;132;01m}\u001B[39;00m\u001B[38;5;124m not in index\u001B[39m\u001B[38;5;124m\"\u001B[39m)\n",
      "\u001B[0;31mKeyError\u001B[0m: \"['max_entailment_score', 'max_contradiction_score', 'max_neutral_score'] not in index\""
     ]
    }
   ],
   "execution_count": 26
  },
  {
   "metadata": {},
   "cell_type": "code",
   "source": [
    "plt.figure(figsize=(12, 4))\n",
    "scores_cols = [\"max_contradiction_score\",\"max_neutral_score\",\"max_entailment_score\"]\n",
    "df[scores_cols].hist(bins=20, figsize=(12, 4))\n",
    "plt.suptitle(\"Distribution of max scores across all claims\")\n",
    "plt.show()\n"
   ],
   "id": "b9732428d45e5f3a",
   "outputs": [],
   "execution_count": null
  },
  {
   "metadata": {},
   "cell_type": "code",
   "source": "",
   "id": "9784220e991d729d",
   "outputs": [],
   "execution_count": null
  }
 ],
 "metadata": {
  "kernelspec": {
   "display_name": "Python 3",
   "language": "python",
   "name": "python3"
  },
  "language_info": {
   "codemirror_mode": {
    "name": "ipython",
    "version": 2
   },
   "file_extension": ".py",
   "mimetype": "text/x-python",
   "name": "python",
   "nbconvert_exporter": "python",
   "pygments_lexer": "ipython2",
   "version": "2.7.6"
  }
 },
 "nbformat": 4,
 "nbformat_minor": 5
}

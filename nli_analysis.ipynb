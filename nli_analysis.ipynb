{
 "cells": [
  {
   "cell_type": "code",
   "id": "initial_id",
   "metadata": {
    "collapsed": true,
    "ExecuteTime": {
     "end_time": "2025-03-18T15:27:47.393150Z",
     "start_time": "2025-03-18T15:27:47.371551Z"
    }
   },
   "source": [
    "# nli_analysis.ipynb\n",
    "\n",
    "import json\n",
    "import pandas as pd\n",
    "from collections import Counter\n",
    "import matplotlib.pyplot as plt\n",
    "import seaborn as sns\n",
    "\n",
    "path = \"nli_verification_results_subset.json\"\n",
    "# path = \"nli_verification_results.json\"\n",
    "\n",
    "# 1) Load the results JSON\n",
    "with open(path, \"r\", encoding=\"utf-8\") as f:\n",
    "    data = json.load(f)\n",
    "\n",
    "# data should have:\n",
    "# {\n",
    "#   \"results\": [...],   # each entry: {doc_id, claim_id, claim_text, pred_label, gold_label, ...}\n",
    "#   \"metrics\": {...}    # overall metrics (accuracy, macro_precision, etc.)\n",
    "# }\n",
    "results = data[\"results\"]\n",
    "metrics = data[\"metrics\"]\n",
    "\n",
    "# 2) Convert results to a DataFrame\n",
    "df = pd.DataFrame(results)\n",
    "df.head()"
   ],
   "outputs": [
    {
     "data": {
      "text/plain": [
       "     doc_id claim_id                                         claim_text  \\\n",
       "0  13734012        2  1 in 5 million in UK have abnormal PrP positiv...   \n",
       "1  13734012        5         1/2000 in UK have abnormal PrP positivity.   \n",
       "2  13734012       48  A total of 1,000 people in the UK are asymptom...   \n",
       "3  22080671       15  50% of patients exposed to radiation have acti...   \n",
       "4  22080671      139  At least 85% of patients exposed to radiation ...   \n",
       "\n",
       "  pred_label     gold_label  max_entailment_score  max_contradiction_score  \\\n",
       "0    neutral  contradiction              0.124916                 0.106146   \n",
       "1    neutral     entailment              0.049001                 0.505820   \n",
       "2    neutral  contradiction              0.013483                 0.726517   \n",
       "3    neutral        neutral              0.016096                 0.188837   \n",
       "4    neutral        neutral              0.078055                 0.286771   \n",
       "\n",
       "   max_neutral_score  \n",
       "0           0.991362  \n",
       "1           0.966415  \n",
       "2           0.968404  \n",
       "3           0.992260  \n",
       "4           0.932288  "
      ],
      "text/html": [
       "<div>\n",
       "<style scoped>\n",
       "    .dataframe tbody tr th:only-of-type {\n",
       "        vertical-align: middle;\n",
       "    }\n",
       "\n",
       "    .dataframe tbody tr th {\n",
       "        vertical-align: top;\n",
       "    }\n",
       "\n",
       "    .dataframe thead th {\n",
       "        text-align: right;\n",
       "    }\n",
       "</style>\n",
       "<table border=\"1\" class=\"dataframe\">\n",
       "  <thead>\n",
       "    <tr style=\"text-align: right;\">\n",
       "      <th></th>\n",
       "      <th>doc_id</th>\n",
       "      <th>claim_id</th>\n",
       "      <th>claim_text</th>\n",
       "      <th>pred_label</th>\n",
       "      <th>gold_label</th>\n",
       "      <th>max_entailment_score</th>\n",
       "      <th>max_contradiction_score</th>\n",
       "      <th>max_neutral_score</th>\n",
       "    </tr>\n",
       "  </thead>\n",
       "  <tbody>\n",
       "    <tr>\n",
       "      <th>0</th>\n",
       "      <td>13734012</td>\n",
       "      <td>2</td>\n",
       "      <td>1 in 5 million in UK have abnormal PrP positiv...</td>\n",
       "      <td>neutral</td>\n",
       "      <td>contradiction</td>\n",
       "      <td>0.124916</td>\n",
       "      <td>0.106146</td>\n",
       "      <td>0.991362</td>\n",
       "    </tr>\n",
       "    <tr>\n",
       "      <th>1</th>\n",
       "      <td>13734012</td>\n",
       "      <td>5</td>\n",
       "      <td>1/2000 in UK have abnormal PrP positivity.</td>\n",
       "      <td>neutral</td>\n",
       "      <td>entailment</td>\n",
       "      <td>0.049001</td>\n",
       "      <td>0.505820</td>\n",
       "      <td>0.966415</td>\n",
       "    </tr>\n",
       "    <tr>\n",
       "      <th>2</th>\n",
       "      <td>13734012</td>\n",
       "      <td>48</td>\n",
       "      <td>A total of 1,000 people in the UK are asymptom...</td>\n",
       "      <td>neutral</td>\n",
       "      <td>contradiction</td>\n",
       "      <td>0.013483</td>\n",
       "      <td>0.726517</td>\n",
       "      <td>0.968404</td>\n",
       "    </tr>\n",
       "    <tr>\n",
       "      <th>3</th>\n",
       "      <td>22080671</td>\n",
       "      <td>15</td>\n",
       "      <td>50% of patients exposed to radiation have acti...</td>\n",
       "      <td>neutral</td>\n",
       "      <td>neutral</td>\n",
       "      <td>0.016096</td>\n",
       "      <td>0.188837</td>\n",
       "      <td>0.992260</td>\n",
       "    </tr>\n",
       "    <tr>\n",
       "      <th>4</th>\n",
       "      <td>22080671</td>\n",
       "      <td>139</td>\n",
       "      <td>At least 85% of patients exposed to radiation ...</td>\n",
       "      <td>neutral</td>\n",
       "      <td>neutral</td>\n",
       "      <td>0.078055</td>\n",
       "      <td>0.286771</td>\n",
       "      <td>0.932288</td>\n",
       "    </tr>\n",
       "  </tbody>\n",
       "</table>\n",
       "</div>"
      ]
     },
     "execution_count": 10,
     "metadata": {},
     "output_type": "execute_result"
    }
   ],
   "execution_count": 10
  },
  {
   "metadata": {
    "ExecuteTime": {
     "end_time": "2025-03-18T15:27:47.397913Z",
     "start_time": "2025-03-18T15:27:47.394789Z"
    }
   },
   "cell_type": "code",
   "source": [
    "print(\"=== Overall Metrics ===\")\n",
    "for metric_name, metric_value in metrics.items():\n",
    "    print(f\"{metric_name}: {metric_value:.3f}\")\n"
   ],
   "id": "e38639fd7b00195b",
   "outputs": [
    {
     "name": "stdout",
     "output_type": "stream",
     "text": [
      "=== Overall Metrics ===\n",
      "accuracy: 0.493\n",
      "macro_precision: 0.655\n",
      "macro_recall: 0.512\n",
      "macro_f1: 0.458\n"
     ]
    }
   ],
   "execution_count": 11
  },
  {
   "metadata": {
    "ExecuteTime": {
     "end_time": "2025-03-18T15:27:47.401402Z",
     "start_time": "2025-03-18T15:27:47.398888Z"
    }
   },
   "cell_type": "code",
   "source": [
    "gold_counts = Counter(df[\"gold_label\"])\n",
    "print(\"Gold label distribution:\", gold_counts)"
   ],
   "id": "47ce73c68dc68257",
   "outputs": [
    {
     "name": "stdout",
     "output_type": "stream",
     "text": [
      "Gold label distribution: Counter({'entailment': 129, 'neutral': 117, 'contradiction': 89})\n"
     ]
    }
   ],
   "execution_count": 12
  },
  {
   "metadata": {
    "ExecuteTime": {
     "end_time": "2025-03-18T15:27:47.406585Z",
     "start_time": "2025-03-18T15:27:47.404135Z"
    }
   },
   "cell_type": "code",
   "source": [
    "pred_counts = Counter(df[\"pred_label\"])\n",
    "print(\"Predicted label distribution:\", pred_counts)\n"
   ],
   "id": "6df6649588d2a213",
   "outputs": [
    {
     "name": "stdout",
     "output_type": "stream",
     "text": [
      "Predicted label distribution: Counter({'neutral': 219, 'contradiction': 97, 'entailment': 19})\n"
     ]
    }
   ],
   "execution_count": 13
  },
  {
   "metadata": {
    "ExecuteTime": {
     "end_time": "2025-03-18T15:27:47.567009Z",
     "start_time": "2025-03-18T15:27:47.408006Z"
    }
   },
   "cell_type": "code",
   "source": [
    "labels = [\"contradiction\", \"neutral\", \"entailment\"]\n",
    "\n",
    "fig, axes = plt.subplots(1, 2, figsize=(10, 4), sharey=True)\n",
    "\n",
    "axes[0].bar(labels, [gold_counts[l] for l in labels], color=\"skyblue\")\n",
    "axes[0].set_title(\"Gold Label Distribution\")\n",
    "axes[0].set_ylabel(\"Count\")\n",
    "\n",
    "axes[1].bar(labels, [pred_counts[l] for l in labels], color=\"lightgreen\")\n",
    "axes[1].set_title(\"Predicted Label Distribution\")\n",
    "\n",
    "plt.tight_layout()\n",
    "plt.show()\n"
   ],
   "id": "da9ae51bb0fa63d7",
   "outputs": [
    {
     "data": {
      "text/plain": [
       "<Figure size 1000x400 with 2 Axes>"
      ],
      "image/png": "[encoded data removed]"
     },
     "metadata": {},
     "output_type": "display_data"
    }
   ],
   "execution_count": 14
  },
  {
   "metadata": {
    "ExecuteTime": {
     "end_time": "2025-03-18T15:27:47.580289Z",
     "start_time": "2025-03-18T15:27:47.569602Z"
    }
   },
   "cell_type": "code",
   "source": [
    "label_map = {\"contradiction\": 0, \"neutral\": 1, \"entailment\": 2}\n",
    "df[\"gold_id\"] = df[\"gold_label\"].map(label_map)\n",
    "df[\"pred_id\"] = df[\"pred_label\"].map(label_map)\n",
    "\n",
    "confusion = pd.crosstab(df[\"gold_id\"], df[\"pred_id\"], rownames=[\"Gold\"], colnames=[\"Pred\"])\n",
    "confusion\n"
   ],
   "id": "a2dfc5aed43cd4c8",
   "outputs": [
    {
     "data": {
      "text/plain": [
       "Pred   0   1   2\n",
       "Gold            \n",
       "0     52  37   0\n",
       "1     23  94   0\n",
       "2     22  88  19"
      ],
      "text/html": [
       "<div>\n",
       "<style scoped>\n",
       "    .dataframe tbody tr th:only-of-type {\n",
       "        vertical-align: middle;\n",
       "    }\n",
       "\n",
       "    .dataframe tbody tr th {\n",
       "        vertical-align: top;\n",
       "    }\n",
       "\n",
       "    .dataframe thead th {\n",
       "        text-align: right;\n",
       "    }\n",
       "</style>\n",
       "<table border=\"1\" class=\"dataframe\">\n",
       "  <thead>\n",
       "    <tr style=\"text-align: right;\">\n",
       "      <th>Pred</th>\n",
       "      <th>0</th>\n",
       "      <th>1</th>\n",
       "      <th>2</th>\n",
       "    </tr>\n",
       "    <tr>\n",
       "      <th>Gold</th>\n",
       "      <th></th>\n",
       "      <th></th>\n",
       "      <th></th>\n",
       "    </tr>\n",
       "  </thead>\n",
       "  <tbody>\n",
       "    <tr>\n",
       "      <th>0</th>\n",
       "      <td>52</td>\n",
       "      <td>37</td>\n",
       "      <td>0</td>\n",
       "    </tr>\n",
       "    <tr>\n",
       "      <th>1</th>\n",
       "      <td>23</td>\n",
       "      <td>94</td>\n",
       "      <td>0</td>\n",
       "    </tr>\n",
       "    <tr>\n",
       "      <th>2</th>\n",
       "      <td>22</td>\n",
       "      <td>88</td>\n",
       "      <td>19</td>\n",
       "    </tr>\n",
       "  </tbody>\n",
       "</table>\n",
       "</div>"
      ]
     },
     "execution_count": 15,
     "metadata": {},
     "output_type": "execute_result"
    }
   ],
   "execution_count": 15
  },
  {
   "metadata": {
    "ExecuteTime": {
     "end_time": "2025-03-18T15:27:47.660687Z",
     "start_time": "2025-03-18T15:27:47.581664Z"
    }
   },
   "cell_type": "code",
   "source": [
    "plt.figure(figsize=(6, 4))\n",
    "sns.heatmap(confusion, annot=True, cmap=\"Blues\", fmt=\"d\",\n",
    "            xticklabels=label_map.keys(),\n",
    "            yticklabels=label_map.keys())\n",
    "plt.title(\"Confusion Matrix (Gold vs. Predicted)\")\n",
    "plt.show()"
   ],
   "id": "b5047e79cb648e25",
   "outputs": [
    {
     "data": {
      "text/plain": [
       "<Figure size 600x400 with 2 Axes>"
      ],
      "image/png": "[encoded data removed]"
     },
     "metadata": {},
     "output_type": "display_data"
    }
   ],
   "execution_count": 16
  },
  {
   "metadata": {
    "ExecuteTime": {
     "end_time": "2025-03-18T15:27:47.673477Z",
     "start_time": "2025-03-18T15:27:47.662470Z"
    }
   },
   "cell_type": "code",
   "source": "df[[\"gold_label\", \"max_entailment_score\", \"max_contradiction_score\", \"max_neutral_score\"]].describe()",
   "id": "72428b6f167aba78",
   "outputs": [
    {
     "data": {
      "text/plain": [
       "       max_entailment_score  max_contradiction_score  max_neutral_score\n",
       "count            335.000000               335.000000         335.000000\n",
       "mean               0.304958                 0.634588           0.889214\n",
       "std                0.313285                 0.320834           0.157623\n",
       "min                0.002496                 0.017238           0.152088\n",
       "25%                0.060882                 0.338559           0.867192\n",
       "50%                0.159024                 0.711693           0.951969\n",
       "75%                0.461671                 0.945490           0.985496\n",
       "max                0.993119                 0.999255           0.997831"
      ],
      "text/html": [
       "<div>\n",
       "<style scoped>\n",
       "    .dataframe tbody tr th:only-of-type {\n",
       "        vertical-align: middle;\n",
       "    }\n",
       "\n",
       "    .dataframe tbody tr th {\n",
       "        vertical-align: top;\n",
       "    }\n",
       "\n",
       "    .dataframe thead th {\n",
       "        text-align: right;\n",
       "    }\n",
       "</style>\n",
       "<table border=\"1\" class=\"dataframe\">\n",
       "  <thead>\n",
       "    <tr style=\"text-align: right;\">\n",
       "      <th></th>\n",
       "      <th>max_entailment_score</th>\n",
       "      <th>max_contradiction_score</th>\n",
       "      <th>max_neutral_score</th>\n",
       "    </tr>\n",
       "  </thead>\n",
       "  <tbody>\n",
       "    <tr>\n",
       "      <th>count</th>\n",
       "      <td>335.000000</td>\n",
       "      <td>335.000000</td>\n",
       "      <td>335.000000</td>\n",
       "    </tr>\n",
       "    <tr>\n",
       "      <th>mean</th>\n",
       "      <td>0.304958</td>\n",
       "      <td>0.634588</td>\n",
       "      <td>0.889214</td>\n",
       "    </tr>\n",
       "    <tr>\n",
       "      <th>std</th>\n",
       "      <td>0.313285</td>\n",
       "      <td>0.320834</td>\n",
       "      <td>0.157623</td>\n",
       "    </tr>\n",
       "    <tr>\n",
       "      <th>min</th>\n",
       "      <td>0.002496</td>\n",
       "      <td>0.017238</td>\n",
       "      <td>0.152088</td>\n",
       "    </tr>\n",
       "    <tr>\n",
       "      <th>25%</th>\n",
       "      <td>0.060882</td>\n",
       "      <td>0.338559</td>\n",
       "      <td>0.867192</td>\n",
       "    </tr>\n",
       "    <tr>\n",
       "      <th>50%</th>\n",
       "      <td>0.159024</td>\n",
       "      <td>0.711693</td>\n",
       "      <td>0.951969</td>\n",
       "    </tr>\n",
       "    <tr>\n",
       "      <th>75%</th>\n",
       "      <td>0.461671</td>\n",
       "      <td>0.945490</td>\n",
       "      <td>0.985496</td>\n",
       "    </tr>\n",
       "    <tr>\n",
       "      <th>max</th>\n",
       "      <td>0.993119</td>\n",
       "      <td>0.999255</td>\n",
       "      <td>0.997831</td>\n",
       "    </tr>\n",
       "  </tbody>\n",
       "</table>\n",
       "</div>"
      ]
     },
     "execution_count": 17,
     "metadata": {},
     "output_type": "execute_result"
    }
   ],
   "execution_count": 17
  },
  {
   "metadata": {
    "ExecuteTime": {
     "end_time": "2025-03-18T15:27:47.880219Z",
     "start_time": "2025-03-18T15:27:47.675122Z"
    }
   },
   "cell_type": "code",
   "source": [
    "plt.figure(figsize=(12, 4))\n",
    "scores_cols = [\"max_contradiction_score\",\"max_neutral_score\",\"max_entailment_score\"]\n",
    "df[scores_cols].hist(bins=20, figsize=(12, 4))\n",
    "plt.suptitle(\"Distribution of max scores across all claims\")\n",
    "plt.show()\n"
   ],
   "id": "b9732428d45e5f3a",
   "outputs": [
    {
     "data": {
      "text/plain": [
       "<Figure size 1200x400 with 0 Axes>"
      ]
     },
     "metadata": {},
     "output_type": "display_data"
    },
    {
     "data": {
      "text/plain": [
       "<Figure size 1200x400 with 4 Axes>"
      ],
      "image/png": "[encoded data removed]"
     },
     "metadata": {},
     "output_type": "display_data"
    }
   ],
   "execution_count": 18
  },
  {
   "metadata": {
    "ExecuteTime": {
     "end_time": "2025-03-18T15:27:47.886754Z",
     "start_time": "2025-03-18T15:27:47.884384Z"
    }
   },
   "cell_type": "code",
   "source": "",
   "id": "9784220e991d729d",
   "outputs": [],
   "execution_count": 18
  }
 ],
 "metadata": {
  "kernelspec": {
   "display_name": "Python 3",
   "language": "python",
   "name": "python3"
  },
  "language_info": {
   "codemirror_mode": {
    "name": "ipython",
    "version": 2
   },
   "file_extension": ".py",
   "mimetype": "text/x-python",
   "name": "python",
   "nbconvert_exporter": "python",
   "pygments_lexer": "ipython2",
   "version": "2.7.6"
  }
 },
 "nbformat": 4,
 "nbformat_minor": 5
}
